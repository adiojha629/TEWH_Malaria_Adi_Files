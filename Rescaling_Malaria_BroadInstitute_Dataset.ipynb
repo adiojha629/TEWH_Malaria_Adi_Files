{
  "nbformat": 4,
  "nbformat_minor": 0,
  "metadata": {
    "colab": {
      "name": "Copy of 01.30 - Malaria_BroadInstitute_Dataset.ipynb",
      "provenance": [],
      "collapsed_sections": [],
      "include_colab_link": true
    },
    "kernelspec": {
      "name": "python3",
      "display_name": "Python 3"
    }
  },
  "cells": [
    {
      "cell_type": "markdown",
      "metadata": {
        "id": "view-in-github",
        "colab_type": "text"
      },
      "source": [
        "<a href=\"https://colab.research.google.com/github/adiojha629/TEWH_Malaria_Adi_Files/blob/master/Rescaling_Malaria_BroadInstitute_Dataset.ipynb\" target=\"_parent\"><img src=\"https://colab.research.google.com/assets/colab-badge.svg\" alt=\"Open In Colab\"/></a>"
      ]
    },
    {
      "cell_type": "markdown",
      "metadata": {
        "id": "igt6vo77sN8K",
        "colab_type": "text"
      },
      "source": [
        "## Task Description\n",
        "\n",
        "**Reformat the Broad Insitute dataset into the 'numpy.float32' format.** Create numpy arrays labeled “red_blood_cell_features”, “rings_features”, “schizonts_features”, “trophozoites_features”, and “gametocyte_features”.\n",
        "\n",
        "##Specifics:\n",
        "The Broad Institute dataset is the dataset we will use to test our convolutional neural network for image classification. *In order to test these images, the dataset must be formatted in the appropriate np.array structure.* \n",
        "\n",
        "The folder containing the Broad Institute dataset is named “Malaria_BroadInstitute_Dataset”. It contains the following folders: “gametocyte”, “red_blood_cell”, “rings”, “schizonts”, “trophozoites”, and “white_blood_cell”.Note that gametocytes, rings, schizonts, and trophozoites, are all infected red blood cells. \n",
        "\n",
        "The image data should be stored in a ‘numpy.float32’ data format, with the shape of [x 128 128 3], where x is the number of images. Dimensions 1 and 2 ([128 128]) indicate the desired 128x128 pixels, whereas Dimension 3 ([3]) is for each of the RGB color channels. This means that unlike the training set, for the test set you must resize the images to 128x128 pixels. "
      ]
    },
    {
      "cell_type": "markdown",
      "metadata": {
        "id": "lIu6cgZwsZqm",
        "colab_type": "text"
      },
      "source": [
        "## Step one: Download Images\n",
        "We first download the NIH dataset from online, and then we unzip the files.Inside, there are six folders each containing all of the images in their respective classes. "
      ]
    },
    {
      "cell_type": "code",
      "metadata": {
        "id": "kKzHkw3lsMEy",
        "colab_type": "code",
        "colab": {
          "base_uri": "https://localhost:8080/",
          "height": 470
        },
        "outputId": "fe3a644a-84c6-4c47-da0f-0b5bc0ba6a23"
      },
      "source": [
        "# Download zip file with images if not already exists\n",
        "!wget -nc https://utexas.box.com/shared/static/6bo67mzvhyoqjd1dgvar3kltniyv503c.zip -O Malaria_BroadInstitute_Dataset.zip"
      ],
      "execution_count": 1,
      "outputs": [
        {
          "output_type": "stream",
          "text": [
            "--2020-08-04 19:23:31--  https://utexas.box.com/shared/static/6bo67mzvhyoqjd1dgvar3kltniyv503c.zip\n",
            "Resolving utexas.box.com (utexas.box.com)... 107.152.29.197\n",
            "Connecting to utexas.box.com (utexas.box.com)|107.152.29.197|:443... connected.\n",
            "HTTP request sent, awaiting response... 301 Moved Permanently\n",
            "Location: /public/static/6bo67mzvhyoqjd1dgvar3kltniyv503c.zip [following]\n",
            "--2020-08-04 19:23:32--  https://utexas.box.com/public/static/6bo67mzvhyoqjd1dgvar3kltniyv503c.zip\n",
            "Reusing existing connection to utexas.box.com:443.\n",
            "HTTP request sent, awaiting response... 301 Moved Permanently\n",
            "Location: https://utexas.app.box.com/public/static/6bo67mzvhyoqjd1dgvar3kltniyv503c.zip [following]\n",
            "--2020-08-04 19:23:32--  https://utexas.app.box.com/public/static/6bo67mzvhyoqjd1dgvar3kltniyv503c.zip\n",
            "Resolving utexas.app.box.com (utexas.app.box.com)... 107.152.29.201\n",
            "Connecting to utexas.app.box.com (utexas.app.box.com)|107.152.29.201|:443... connected.\n",
            "HTTP request sent, awaiting response... 302 Found\n",
            "Location: https://public.boxcloud.com/d/1/b1!DHhXtiRCOBtY5OgCnmOluAtqHha7OMAirI2sNTIWjI6CaDWjIA4vRgalhEKulDJuhFkgQ1uC1RORHZ3jzTAQgZW1ZCtep5weyyWocD9hHpnV75UTGrRi8NpjOEndX18_uPYd_C9X8l9rZWC2IWRD7MeuWCDICXpWXYZ0lTHy9C3JucnY95vjDh_LQP1HD-Q3fYF1uNCMPWvlfed20X61nVX6SmfG8VHz5aj-SYTzY9Pmwdfo2yAidYXU7Koazt23P5fM9S-EuDAJeq1ZFoHsaute73PuiJ20k1mgw2br5D7dge_DX8qj1VUWC3pHpaklVrdxLzLrp6elrMuvYFe-Dv-yuTicNzs3SRYUA41rd_-sYbclxGeRIdie-mj6bbS6FCZx-Vt-MGCkNmWkkJFahVw2QGwpoDUig5k0aQSUUR9HiJr0guLSbDrSsefhvxG5M9M7XIfqlzZztI3gLjy8hZP83k6GjtI1AfyiQMK8xDez-ai7nBNkpD1FqlBCfC5v-UjO9PUF5JaiS9iKet_hH288Ve85JHPdzFAw8f-Wk6FHmQgGksnmrck8x0G_eIKYB1uD6aZWvR3xvmYjf8Bl9chVVCZmCTFxagTHwdc6uvg3YyW6X-xpsp34Tz9UVzRZxu99Sn5Zp6gc2pUmrGD-2uStOJmL1SnXluOIrxhUWVOQJ-O72FEoj8DDY5TNf3zmvwmkgXnOGFUPzdLcEYerSOzQKLAvC7cTU9iASdmD9LrM7LWH0FyfcuSOYPxzS3amQKKss7ckxPlXFfrDxEjZCQdyU5jRzAaMftLm-fDLD0JyPgaVX_7K8fUIBIKrS3z9m_SeWPmC_YzHOUyo05MCOvm47xgFKqcuorXNsZ7R1wZraD7nLmSu2bx08DMJKW5BrfQRV75n2YecH3P-l3V41ga8QhDEl6G-lOeflkFR5kK8hs7kj7pLk61fVvyGdudBPNuHMbSM69Yk7dFrjKHlJEa5Xb7hqOosIXmwlmbORVOzNxW2ZaM4JB_Pz4D-qbfE4tVrlanEU_5bvGEtxPsobZjlCDl_cWkHttdHKZ6VPXKOgYcTR2Iuumg8fjfZrPO5K-0ZTuWfuGwVtczNA9EfqC-ocLCq7ui4zNmEMxiRyTt4ex2l3UiPxDv2QF9mFDxxazwFdg1jss2EeZvNL4-fX26GLoZr7l2xL6Gvd5xS8V0ZhcW9pW-KQuB4PBZELQw4jAGxx7Jp88-ASviFQ_oS6WBjAyQx4fUqIwvs4RpxbBslMPqu5iFp4BGtVRDCiW8FyLWUES68InrZOaBbSG8fCQ_c7xASDPFypB-iqcnWSjc8XtzIRMEauy-tuoVXlmg4fQfV-NfYMSo-3064tN4HQm0NvK6JU1JWPnWYubu87S6uZ9kY3tja6nbh3j2f8nDYR-BEU3P-8WS_fCiFOiClHL3P/download [following]\n",
            "--2020-08-04 19:23:32--  https://public.boxcloud.com/d/1/b1!DHhXtiRCOBtY5OgCnmOluAtqHha7OMAirI2sNTIWjI6CaDWjIA4vRgalhEKulDJuhFkgQ1uC1RORHZ3jzTAQgZW1ZCtep5weyyWocD9hHpnV75UTGrRi8NpjOEndX18_uPYd_C9X8l9rZWC2IWRD7MeuWCDICXpWXYZ0lTHy9C3JucnY95vjDh_LQP1HD-Q3fYF1uNCMPWvlfed20X61nVX6SmfG8VHz5aj-SYTzY9Pmwdfo2yAidYXU7Koazt23P5fM9S-EuDAJeq1ZFoHsaute73PuiJ20k1mgw2br5D7dge_DX8qj1VUWC3pHpaklVrdxLzLrp6elrMuvYFe-Dv-yuTicNzs3SRYUA41rd_-sYbclxGeRIdie-mj6bbS6FCZx-Vt-MGCkNmWkkJFahVw2QGwpoDUig5k0aQSUUR9HiJr0guLSbDrSsefhvxG5M9M7XIfqlzZztI3gLjy8hZP83k6GjtI1AfyiQMK8xDez-ai7nBNkpD1FqlBCfC5v-UjO9PUF5JaiS9iKet_hH288Ve85JHPdzFAw8f-Wk6FHmQgGksnmrck8x0G_eIKYB1uD6aZWvR3xvmYjf8Bl9chVVCZmCTFxagTHwdc6uvg3YyW6X-xpsp34Tz9UVzRZxu99Sn5Zp6gc2pUmrGD-2uStOJmL1SnXluOIrxhUWVOQJ-O72FEoj8DDY5TNf3zmvwmkgXnOGFUPzdLcEYerSOzQKLAvC7cTU9iASdmD9LrM7LWH0FyfcuSOYPxzS3amQKKss7ckxPlXFfrDxEjZCQdyU5jRzAaMftLm-fDLD0JyPgaVX_7K8fUIBIKrS3z9m_SeWPmC_YzHOUyo05MCOvm47xgFKqcuorXNsZ7R1wZraD7nLmSu2bx08DMJKW5BrfQRV75n2YecH3P-l3V41ga8QhDEl6G-lOeflkFR5kK8hs7kj7pLk61fVvyGdudBPNuHMbSM69Yk7dFrjKHlJEa5Xb7hqOosIXmwlmbORVOzNxW2ZaM4JB_Pz4D-qbfE4tVrlanEU_5bvGEtxPsobZjlCDl_cWkHttdHKZ6VPXKOgYcTR2Iuumg8fjfZrPO5K-0ZTuWfuGwVtczNA9EfqC-ocLCq7ui4zNmEMxiRyTt4ex2l3UiPxDv2QF9mFDxxazwFdg1jss2EeZvNL4-fX26GLoZr7l2xL6Gvd5xS8V0ZhcW9pW-KQuB4PBZELQw4jAGxx7Jp88-ASviFQ_oS6WBjAyQx4fUqIwvs4RpxbBslMPqu5iFp4BGtVRDCiW8FyLWUES68InrZOaBbSG8fCQ_c7xASDPFypB-iqcnWSjc8XtzIRMEauy-tuoVXlmg4fQfV-NfYMSo-3064tN4HQm0NvK6JU1JWPnWYubu87S6uZ9kY3tja6nbh3j2f8nDYR-BEU3P-8WS_fCiFOiClHL3P/download\n",
            "Resolving public.boxcloud.com (public.boxcloud.com)... 107.152.29.200\n",
            "Connecting to public.boxcloud.com (public.boxcloud.com)|107.152.29.200|:443... connected.\n",
            "HTTP request sent, awaiting response... 200 OK\n",
            "Length: 208356129 (199M) [application/zip]\n",
            "Saving to: ‘Malaria_BroadInstitute_Dataset.zip’\n",
            "\n",
            "Malaria_BroadInstit 100%[===================>] 198.70M  22.9MB/s    in 9.4s    \n",
            "\n",
            "2020-08-04 19:23:42 (21.1 MB/s) - ‘Malaria_BroadInstitute_Dataset.zip’ saved [208356129/208356129]\n",
            "\n"
          ],
          "name": "stdout"
        }
      ]
    },
    {
      "cell_type": "code",
      "metadata": {
        "id": "w6ZBUw5JKD4a",
        "colab_type": "code",
        "colab": {
          "base_uri": "https://localhost:8080/",
          "height": 69
        },
        "outputId": "a3511f50-bbae-49e1-a709-05565cd435eb"
      },
      "source": [
        "import numpy as np\n",
        "import os\n",
        "from shutil import copyfile\n",
        "from zipfile import ZipFile\n",
        "\n",
        "# Here we download the Broad Institute dataset as a zip file\n",
        "!wget -nc https://utexas.box.com/shared/static/6bo67mzvhyoqjd1dgvar3kltniyv503c.zip -O Malaria_BroadInstitute_Dataset.zip\n",
        "\n",
        "ROOT_DIR = os.path.join(\"/\", \"content\")\n",
        "DATASET_DIR = \"/content/Malaria_BroadInstitute_Dataset/\"\n",
        "\n",
        "# Extract images if not already extracted\n",
        "if not os.path.isdir(DATASET_DIR):\n",
        "    print(\"Extracting images...\")\n",
        "    with ZipFile(os.path.join(ROOT_DIR, \"Malaria_BroadInstitute_Dataset.zip\"), \"r\") as zipObj:\n",
        "        zipObj.extractall()\n",
        "    print(\"Done!\")"
      ],
      "execution_count": 2,
      "outputs": [
        {
          "output_type": "stream",
          "text": [
            "File ‘Malaria_BroadInstitute_Dataset.zip’ already there; not retrieving.\n",
            "Extracting images...\n",
            "Done!\n"
          ],
          "name": "stdout"
        }
      ]
    },
    {
      "cell_type": "markdown",
      "metadata": {
        "id": "pqo6Ybcps6e4",
        "colab_type": "text"
      },
      "source": [
        "## Practice Accessing Image Files\n",
        "Now to access the actual images located in these folders, we need to know the names of these files. If we use the function ```os.listdir(\"DirectoryHere\")```, we can retrieve a list of every single file name. \n",
        "\n",
        "Note that the main directory on this Google Colab document is ```\"/content/\"```. So for example, if we want to access the folder \"Parasitized\", the directory that goes in the ```os.listdir()``` function would be ```\"/content/Malaria_BroadInstitute_Dataset/red_blood_cell\"```. \n",
        "\n",
        "Here we generate a list of all of the file names in the \"red_blood_cell\" folder and store it in some variable, maybe perhaps conveniently call it ```RBCFiles```."
      ]
    },
    {
      "cell_type": "code",
      "metadata": {
        "id": "8tk5YdPTtI-L",
        "colab_type": "code",
        "colab": {}
      },
      "source": [
        "# Generate list of red blood cell file names\n",
        "#RBCFiles = os.listdir(\"DirectoryHere\")\n",
        "\n",
        "# Generate list of red blood cell file names\n",
        "RBCFiles = os.listdir(\"/content/Malaria_BroadInstitute_Dataset/red_blood_cell\")\n",
        "\n",
        "# Import example image as a np.array\n",
        "import cv2\n",
        "ExampleImage = cv2.imread('/content/Malaria_BroadInstitute_Dataset/red_blood_cell/' + RBCFiles[0])\n",
        "\n",
        "##Generate list of files names for each type of cell\n",
        "RBCFiles = os.listdir(\"/content/Malaria_BroadInstitute_Dataset/red_blood_cell\")\n",
        "\n",
        "RingsFiles = os.listdir(\"/content/Malaria_BroadInstitute_Dataset/rings\")\n",
        "\n",
        "SchiFiles = os.listdir(\"/content/Malaria_BroadInstitute_Dataset/schizonts\")\n",
        "\n",
        "TrophoFiles = os.listdir(\"/content/Malaria_BroadInstitute_Dataset/trophozoites\")\n",
        "\n",
        "GameFiles = os.listdir(\"/content/Malaria_BroadInstitute_Dataset/gametocyte\")\n",
        "\n"
      ],
      "execution_count": 3,
      "outputs": []
    },
    {
      "cell_type": "markdown",
      "metadata": {
        "id": "4BwEignytYeq",
        "colab_type": "text"
      },
      "source": [
        "## Creating New Folders to Save Rescaled Images\n",
        "Before reshaping our images, we should figure out how to store and export these rescaled images. \n"
      ]
    },
    {
      "cell_type": "code",
      "metadata": {
        "id": "CQeFtgwvtlDm",
        "colab_type": "code",
        "colab": {}
      },
      "source": [
        "from PIL import Image\n",
        "\n",
        "#First I make the folder called rescaled_images\n",
        "rescaled_image_DIR = \"/content/rescaled_images/\"\n",
        "os.mkdir(rescaled_image_DIR)\n",
        "\n",
        "#Now I make subfolders for each type of cell we need (ie. RBC, Schizonts etc.)\n",
        "rescaled_RBC_DIR = rescaled_image_DIR + \"red_blood_cell_features/\" \n",
        "os.mkdir(rescaled_RBC_DIR)\n",
        "\n",
        "rescaled_Ring_DIR = rescaled_image_DIR + \"ring_features/\" \n",
        "os.mkdir(rescaled_Ring_DIR)\n",
        "\n",
        "rescaled_Schi_DIR = rescaled_image_DIR + \"schizonts_features/\" \n",
        "os.mkdir(rescaled_Schi_DIR)\n",
        "\n",
        "rescaled_Troph_DIR = rescaled_image_DIR + \"trophozoites_features/\" \n",
        "os.mkdir(rescaled_Troph_DIR)\n",
        "\n",
        "rescaled_Game_DIR = rescaled_image_DIR + \"gametocyte_features/\" \n",
        "os.mkdir(rescaled_Game_DIR)"
      ],
      "execution_count": 4,
      "outputs": []
    },
    {
      "cell_type": "markdown",
      "metadata": {
        "id": "DyefHCgvtQVb",
        "colab_type": "text"
      },
      "source": [
        "## Reshaping a Single Image\n",
        "Here we develop an algorithm for a single image first, to see if we can get a working method first. \n",
        "\n",
        "In the code chunk below, a particular image is loaded into a np.array for us to work with.\n",
        "\n",
        "Here are some useful functions that I used:\n",
        "\n",
        "- ```np.shape(ArrayHere)```: tells you the shape of the array\n",
        "- ```cv2.imread('FileDirectoryHere')```: access and stores an image as a np.array.\n",
        "- ```cv2.resize(InputImage, dsize=(128,128))```: reshapes the np.array into (128,128,3)."
      ]
    },
    {
      "cell_type": "code",
      "metadata": {
        "id": "lvPYgJV8tUoX",
        "colab_type": "code",
        "colab": {
          "base_uri": "https://localhost:8080/",
          "height": 51
        },
        "outputId": "41d3e8d4-f8a4-4630-c748-eaa6d8733b5b"
      },
      "source": [
        "import numpy as np\n",
        "import cv2\n",
        "\n",
        "# Import example image as a np.array\n",
        "ExampleImage = cv2.imread('/content/Malaria_BroadInstitute_Dataset/red_blood_cell/a1ff36df-71df-4e6e-a65f-ced9a2b381c3cell4.jpg')\n",
        "\n",
        "# Check the shape of the np.array\n",
        "print('The shape for this image is:',np.shape(ExampleImage))\n",
        "\n",
        "# Resize the np.array into (128,128,3)\n",
        "ResizedImage = cv2.resize(ExampleImage, dsize=(128,128))\n",
        "print('The new shape for this image is:',np.shape(ResizedImage))"
      ],
      "execution_count": 5,
      "outputs": [
        {
          "output_type": "stream",
          "text": [
            "The shape for this image is: (126, 105, 3)\n",
            "The new shape for this image is: (128, 128, 3)\n"
          ],
          "name": "stdout"
        }
      ]
    },
    {
      "cell_type": "markdown",
      "metadata": {
        "id": "rsUkkzGJulKd",
        "colab_type": "text"
      },
      "source": [
        "## Rescaling and saving all images\n",
        "\n"
      ]
    },
    {
      "cell_type": "code",
      "metadata": {
        "id": "JeNCN9JTu4tO",
        "colab_type": "code",
        "colab": {}
      },
      "source": [
        "#Adi Code\n",
        "#The following 5 for loops will rescale images from each category, and put them in there respective folders\n",
        "\n",
        "#Some debugging features were added:\n",
        "#If Debug = True; all images will be rescaled and saved\n",
        "#If Debug = False, then only only an 'x' amount of images will be rescaled and saved\n",
        "\n",
        "debug = False ##Change this to True for all images to be resized\n",
        "\n",
        "x = 3 ##Change to nonzero to test the code\n",
        "\n",
        "if (debug):\n",
        "  loop_control_RBC = len(RBCFiles) ##These variable determine how long the for loop below runs\n",
        "  loop_control_Rings=len(RingsFiles)\n",
        "  loop_control_Schi=len(SchiFiles)\n",
        "  loop_control_Troph=len(TrophoFiles)\n",
        "  loop_control_Game=len(GameFiles)\n",
        "else:\n",
        "  loop_control_RBC = x\n",
        "  loop_control_Rings=x\n",
        "  loop_control_Schi=x\n",
        "  loop_control_Troph=x\n",
        "  loop_control_Game=x\n",
        "\n",
        "\n",
        "\n",
        "#Red Blood Cells\n",
        "for index in range(loop_control_RBC):\n",
        "  image_at_index = cv2.imread('/content/Malaria_BroadInstitute_Dataset/red_blood_cell/' + RBCFiles[index])\n",
        "  resized_image = cv2.resize(image_at_index, dsize=(128,128))\n",
        "  Img = Image.fromarray(resized_image,'RGB')\n",
        "  #print('The new shape for this image is:',np.shape(ResizedImage))\n",
        "  Img.save(rescaled_RBC_DIR+\"rescaled_RBC_\"+str(index)+\".png\")\n",
        "\n",
        "#Rings \n",
        "for index in range(loop_control_Rings):\n",
        "  image_at_index = cv2.imread('/content/Malaria_BroadInstitute_Dataset/rings/' + RingsFiles[index])\n",
        "  resized_image = cv2.resize(image_at_index, dsize=(128,128))\n",
        "  Img = Image.fromarray(resized_image,'RGB')\n",
        "  #print('The new shape for this image is:',np.shape(ResizedImage))\n",
        "  Img.save(rescaled_Ring_DIR+\"rescaled_Ring_\"+str(index)+\".png\")\n",
        "\n",
        "#Schizonts\n",
        "for index in range(loop_control_Schi):\n",
        "  image_at_index = cv2.imread('/content/Malaria_BroadInstitute_Dataset/schizonts/' + SchiFiles[index])\n",
        "  resized_image = cv2.resize(image_at_index, dsize=(128,128))\n",
        "  Img = Image.fromarray(resized_image,'RGB')\n",
        "  #print('The new shape for this image is:',np.shape(ResizedImage))\n",
        "  Img.save(rescaled_Schi_DIR+\"rescaled_Schizonts_\"+str(index)+\".png\")\n",
        "\n",
        "#Trophozoites\n",
        "for index in range(loop_control_Troph):\n",
        "  image_at_index = cv2.imread('/content/Malaria_BroadInstitute_Dataset/trophozoites/' + TrophoFiles[index])\n",
        "  resized_image = cv2.resize(image_at_index, dsize=(128,128))\n",
        "  Img = Image.fromarray(resized_image,'RGB')\n",
        "  #print('The new shape for this image is:',np.shape(ResizedImage))\n",
        "  Img.save(rescaled_Troph_DIR+\"rescaled_Trophozoites_\"+str(index)+\".png\")\n",
        "\n",
        "#Gametocytes\n",
        "for index in range(loop_control_Game):\n",
        "  image_at_index = cv2.imread('/content/Malaria_BroadInstitute_Dataset/gametocyte/' + GameFiles[index])\n",
        "  resized_image = cv2.resize(image_at_index, dsize=(128,128))\n",
        "  Img = Image.fromarray(resized_image,'RGB')\n",
        "  #print('The new shape for this image is:',np.shape(ResizedImage))\n",
        "  Img.save(rescaled_Game_DIR+\"rescaled_Gametocyte_\"+str(index)+\".png\")"
      ],
      "execution_count": 6,
      "outputs": []
    }
  ]
}